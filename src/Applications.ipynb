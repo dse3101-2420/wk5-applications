{
 "cells": [
  {
   "cell_type": "markdown",
   "metadata": {},
   "source": [
    "# Week 5 applications\n",
    "## Web scrapping"
   ]
  },
  {
   "cell_type": "markdown",
   "metadata": {},
   "source": [
    "Apart from the standard libraries, we will also need `BeautifulSoup` and `requests` libraries."
   ]
  },
  {
   "cell_type": "code",
   "execution_count": 1,
   "metadata": {},
   "outputs": [
    {
     "name": "stdout",
     "output_type": "stream",
     "text": [
      "Requirement already satisfied: beautifulsoup4 in /Library/Frameworks/Python.framework/Versions/3.12/lib/python3.12/site-packages (4.12.3)\n",
      "Requirement already satisfied: requests in /Library/Frameworks/Python.framework/Versions/3.12/lib/python3.12/site-packages (2.32.3)\n",
      "Requirement already satisfied: soupsieve>1.2 in /Library/Frameworks/Python.framework/Versions/3.12/lib/python3.12/site-packages (from beautifulsoup4) (2.5)\n",
      "Requirement already satisfied: charset-normalizer<4,>=2 in /Library/Frameworks/Python.framework/Versions/3.12/lib/python3.12/site-packages (from requests) (3.3.2)\n",
      "Requirement already satisfied: idna<4,>=2.5 in /Library/Frameworks/Python.framework/Versions/3.12/lib/python3.12/site-packages (from requests) (3.7)\n",
      "Requirement already satisfied: urllib3<3,>=1.21.1 in /Library/Frameworks/Python.framework/Versions/3.12/lib/python3.12/site-packages (from requests) (2.2.2)\n",
      "Requirement already satisfied: certifi>=2017.4.17 in /Library/Frameworks/Python.framework/Versions/3.12/lib/python3.12/site-packages (from requests) (2024.6.2)\n",
      "Note: you may need to restart the kernel to use updated packages.\n"
     ]
    }
   ],
   "source": [
    "%pip install beautifulsoup4 requests"
   ]
  },
  {
   "cell_type": "code",
   "execution_count": 2,
   "metadata": {},
   "outputs": [],
   "source": [
    "import pandas as pd\n",
    "import requests\n",
    "from bs4 import BeautifulSoup\n",
    "import warnings\n",
    "warnings.simplefilter(action = \"ignore\", category = FutureWarning)"
   ]
  },
  {
   "cell_type": "markdown",
   "metadata": {},
   "source": [
    "### Demographics in Singapore\n",
    "\n",
    "In the first practice, we will obtain two tables on this page: https://en.wikipedia.org/wiki/Demographics_of_Singapore\n",
    "\n",
    "With information on\n",
    "\n",
    "+ Gender decomposition of resident population, and\n",
    "\n",
    "+ Household income from work."
   ]
  },
  {
   "cell_type": "code",
   "execution_count": 3,
   "metadata": {},
   "outputs": [],
   "source": [
    "url = \"https://en.wikipedia.org/wiki/Demographics_of_Singapore\"\n",
    "\n",
    "# Send a request and parse the HTML content\n",
    "response = requests.get(url)\n",
    "soup = BeautifulSoup(response.text, \"html.parser\")\n",
    "\n",
    "# Extract all tables with the \"wikitable\" class\n",
    "tables = soup.find_all(\"table\", class_= \"wikitable\")\n",
    "\n",
    "# Convert table into data frame\n",
    "dfs = [pd.read_html(str(table))[0] for table in tables]\n",
    "\n",
    "# Select specific tables based on index\n",
    "gender_compo = dfs[4]\n",
    "household_income = dfs[20]"
   ]
  },
  {
   "cell_type": "code",
   "execution_count": 4,
   "metadata": {},
   "outputs": [
    {
     "data": {
      "text/html": [
       "<div>\n",
       "<style scoped>\n",
       "    .dataframe tbody tr th:only-of-type {\n",
       "        vertical-align: middle;\n",
       "    }\n",
       "\n",
       "    .dataframe tbody tr th {\n",
       "        vertical-align: top;\n",
       "    }\n",
       "\n",
       "    .dataframe thead th {\n",
       "        text-align: right;\n",
       "    }\n",
       "</style>\n",
       "<table border=\"1\" class=\"dataframe\">\n",
       "  <thead>\n",
       "    <tr style=\"text-align: right;\">\n",
       "      <th></th>\n",
       "      <th>Year</th>\n",
       "      <th>1960</th>\n",
       "      <th>1965</th>\n",
       "      <th>1970</th>\n",
       "      <th>1975</th>\n",
       "      <th>1980</th>\n",
       "      <th>1985</th>\n",
       "      <th>1990</th>\n",
       "      <th>1995</th>\n",
       "      <th>2000</th>\n",
       "      <th>2005</th>\n",
       "      <th>2010</th>\n",
       "      <th>2015</th>\n",
       "      <th>2020</th>\n",
       "    </tr>\n",
       "  </thead>\n",
       "  <tbody>\n",
       "    <tr>\n",
       "      <th>0</th>\n",
       "      <td>Total</td>\n",
       "      <td>1646.4</td>\n",
       "      <td>1886.9</td>\n",
       "      <td>2013.6</td>\n",
       "      <td>2262.6</td>\n",
       "      <td>2282.1</td>\n",
       "      <td>2482.6</td>\n",
       "      <td>2735.9</td>\n",
       "      <td>3013.5</td>\n",
       "      <td>3273.4</td>\n",
       "      <td>3467.8</td>\n",
       "      <td>3771.7</td>\n",
       "      <td>3902.7</td>\n",
       "      <td>4044.2</td>\n",
       "    </tr>\n",
       "    <tr>\n",
       "      <th>1</th>\n",
       "      <td>Males</td>\n",
       "      <td>859.6</td>\n",
       "      <td>973.8</td>\n",
       "      <td>1030.8</td>\n",
       "      <td>1156.1</td>\n",
       "      <td>1159.0</td>\n",
       "      <td>1258.5</td>\n",
       "      <td>1386.3</td>\n",
       "      <td>1514.0</td>\n",
       "      <td>1634.7</td>\n",
       "      <td>1721.1</td>\n",
       "      <td>1861.1</td>\n",
       "      <td>1916.6</td>\n",
       "      <td>1977.6</td>\n",
       "    </tr>\n",
       "    <tr>\n",
       "      <th>2</th>\n",
       "      <td>Females</td>\n",
       "      <td>786.8</td>\n",
       "      <td>913.1</td>\n",
       "      <td>982.8</td>\n",
       "      <td>1106.5</td>\n",
       "      <td>1123.1</td>\n",
       "      <td>1224.2</td>\n",
       "      <td>1349.6</td>\n",
       "      <td>1499.5</td>\n",
       "      <td>1638.7</td>\n",
       "      <td>1746.7</td>\n",
       "      <td>1910.6</td>\n",
       "      <td>1986.1</td>\n",
       "      <td>2066.7</td>\n",
       "    </tr>\n",
       "    <tr>\n",
       "      <th>3</th>\n",
       "      <td>Sex ratio (males per 1,000 females)</td>\n",
       "      <td>1093.0</td>\n",
       "      <td>1066.0</td>\n",
       "      <td>1049.0</td>\n",
       "      <td>1045.0</td>\n",
       "      <td>1032.0</td>\n",
       "      <td>1028.0</td>\n",
       "      <td>1027.0</td>\n",
       "      <td>1010.0</td>\n",
       "      <td>998.0</td>\n",
       "      <td>985.0</td>\n",
       "      <td>974.0</td>\n",
       "      <td>965.0</td>\n",
       "      <td>957.0</td>\n",
       "    </tr>\n",
       "  </tbody>\n",
       "</table>\n",
       "</div>"
      ],
      "text/plain": [
       "                                  Year    1960    1965    1970    1975  \\\n",
       "0                                Total  1646.4  1886.9  2013.6  2262.6   \n",
       "1                                Males   859.6   973.8  1030.8  1156.1   \n",
       "2                              Females   786.8   913.1   982.8  1106.5   \n",
       "3  Sex ratio (males per 1,000 females)  1093.0  1066.0  1049.0  1045.0   \n",
       "\n",
       "     1980    1985    1990    1995    2000    2005    2010    2015    2020  \n",
       "0  2282.1  2482.6  2735.9  3013.5  3273.4  3467.8  3771.7  3902.7  4044.2  \n",
       "1  1159.0  1258.5  1386.3  1514.0  1634.7  1721.1  1861.1  1916.6  1977.6  \n",
       "2  1123.1  1224.2  1349.6  1499.5  1638.7  1746.7  1910.6  1986.1  2066.7  \n",
       "3  1032.0  1028.0  1027.0  1010.0   998.0   985.0   974.0   965.0   957.0  "
      ]
     },
     "execution_count": 4,
     "metadata": {},
     "output_type": "execute_result"
    }
   ],
   "source": [
    "gender_compo.head()\n"
   ]
  },
  {
   "cell_type": "code",
   "execution_count": 5,
   "metadata": {},
   "outputs": [
    {
     "data": {
      "text/html": [
       "<div>\n",
       "<style scoped>\n",
       "    .dataframe tbody tr th:only-of-type {\n",
       "        vertical-align: middle;\n",
       "    }\n",
       "\n",
       "    .dataframe tbody tr th {\n",
       "        vertical-align: top;\n",
       "    }\n",
       "\n",
       "    .dataframe thead th {\n",
       "        text-align: right;\n",
       "    }\n",
       "</style>\n",
       "<table border=\"1\" class=\"dataframe\">\n",
       "  <thead>\n",
       "    <tr style=\"text-align: right;\">\n",
       "      <th></th>\n",
       "      <th>Year</th>\n",
       "      <th>1990</th>\n",
       "      <th>1995</th>\n",
       "      <th>1997</th>\n",
       "      <th>1998</th>\n",
       "      <th>1999</th>\n",
       "      <th>2000</th>\n",
       "      <th>2010</th>\n",
       "      <th>2011</th>\n",
       "      <th>2017</th>\n",
       "    </tr>\n",
       "  </thead>\n",
       "  <tbody>\n",
       "    <tr>\n",
       "      <th>0</th>\n",
       "      <td>Average income</td>\n",
       "      <td>3076</td>\n",
       "      <td>4107</td>\n",
       "      <td>4745</td>\n",
       "      <td>4822</td>\n",
       "      <td>4691</td>\n",
       "      <td>4943</td>\n",
       "      <td>8726</td>\n",
       "      <td>9618</td>\n",
       "      <td>11589</td>\n",
       "    </tr>\n",
       "    <tr>\n",
       "      <th>1</th>\n",
       "      <td>Median income</td>\n",
       "      <td>2296</td>\n",
       "      <td>3135</td>\n",
       "      <td>3617</td>\n",
       "      <td>3692</td>\n",
       "      <td>3500</td>\n",
       "      <td>3607</td>\n",
       "      <td>5600</td>\n",
       "      <td>6307</td>\n",
       "      <td>8846</td>\n",
       "    </tr>\n",
       "  </tbody>\n",
       "</table>\n",
       "</div>"
      ],
      "text/plain": [
       "             Year  1990  1995  1997  1998  1999  2000  2010  2011   2017\n",
       "0  Average income  3076  4107  4745  4822  4691  4943  8726  9618  11589\n",
       "1   Median income  2296  3135  3617  3692  3500  3607  5600  6307   8846"
      ]
     },
     "execution_count": 5,
     "metadata": {},
     "output_type": "execute_result"
    }
   ],
   "source": [
    "household_income.head()"
   ]
  },
  {
   "cell_type": "markdown",
   "metadata": {},
   "source": [
    "### Gross monthly income in Singapore\n",
    "\n",
    "Next, we would like to obtain the table on median gross monthly income from earning from the following page: https://stats.mom.gov.sg/Pages/Income-Summary-Table.aspx"
   ]
  },
  {
   "cell_type": "code",
   "execution_count": 6,
   "metadata": {},
   "outputs": [],
   "source": [
    "url = \"https://stats.mom.gov.sg/Pages/Income-Summary-Table.aspx\"\n",
    "\n",
    "# Send a request and parse the HTML content\n",
    "response = requests.get(url)\n",
    "soup = BeautifulSoup(response.text, \"html.parser\")\n",
    "\n",
    "# Extract the table with the CSS selector\n",
    "table = soup.select_one(\"#iMAS_SP_Summ\")\n",
    "\n",
    "# Convert table into data frame\n",
    "df = pd.read_html(str(table), header = 1)[0]"
   ]
  },
  {
   "cell_type": "code",
   "execution_count": 7,
   "metadata": {},
   "outputs": [
    {
     "data": {
      "text/html": [
       "<div>\n",
       "<style scoped>\n",
       "    .dataframe tbody tr th:only-of-type {\n",
       "        vertical-align: middle;\n",
       "    }\n",
       "\n",
       "    .dataframe tbody tr th {\n",
       "        vertical-align: top;\n",
       "    }\n",
       "\n",
       "    .dataframe thead th {\n",
       "        text-align: right;\n",
       "    }\n",
       "</style>\n",
       "<table border=\"1\" class=\"dataframe\">\n",
       "  <thead>\n",
       "    <tr style=\"text-align: right;\">\n",
       "      <th></th>\n",
       "      <th>Mid-Year</th>\n",
       "      <th>2014</th>\n",
       "      <th>2015</th>\n",
       "      <th>2016</th>\n",
       "      <th>2017</th>\n",
       "      <th>2018</th>\n",
       "      <th>2019</th>\n",
       "      <th>2020</th>\n",
       "      <th>2021</th>\n",
       "      <th>2022</th>\n",
       "      <th>2023</th>\n",
       "      <th>2024</th>\n",
       "    </tr>\n",
       "  </thead>\n",
       "  <tbody>\n",
       "    <tr>\n",
       "      <th>0</th>\n",
       "      <td>Levels ($)</td>\n",
       "      <td>3770</td>\n",
       "      <td>3949</td>\n",
       "      <td>4056</td>\n",
       "      <td>4232</td>\n",
       "      <td>4437</td>\n",
       "      <td>4563</td>\n",
       "      <td>4534</td>\n",
       "      <td>4680</td>\n",
       "      <td>5070</td>\n",
       "      <td>5197</td>\n",
       "      <td>5500</td>\n",
       "    </tr>\n",
       "  </tbody>\n",
       "</table>\n",
       "</div>"
      ],
      "text/plain": [
       "     Mid-Year  2014  2015  2016  2017  2018  2019  2020  2021  2022  2023  \\\n",
       "0  Levels ($)  3770  3949  4056  4232  4437  4563  4534  4680  5070  5197   \n",
       "\n",
       "   2024  \n",
       "0  5500  "
      ]
     },
     "execution_count": 7,
     "metadata": {},
     "output_type": "execute_result"
    }
   ],
   "source": [
    "df.head()"
   ]
  },
  {
   "cell_type": "markdown",
   "metadata": {},
   "source": [
    "## Working with APIs\n",
    "### Real median houshold income\n",
    "\n",
    "In the code below, the API token is store in an `.env` file as `FRED_KEY`. \n",
    "\n",
    "We will need some additional libraries in this section: `python-dotenv` and `requests`."
   ]
  },
  {
   "cell_type": "code",
   "execution_count": 8,
   "metadata": {},
   "outputs": [
    {
     "name": "stdout",
     "output_type": "stream",
     "text": [
      "Requirement already satisfied: python-dotenv in /Library/Frameworks/Python.framework/Versions/3.12/lib/python3.12/site-packages (1.0.1)\n",
      "Note: you may need to restart the kernel to use updated packages.\n"
     ]
    }
   ],
   "source": [
    "%pip install python-dotenv"
   ]
  },
  {
   "cell_type": "code",
   "execution_count": 9,
   "metadata": {},
   "outputs": [],
   "source": [
    "import os\n",
    "from dotenv import load_dotenv\n",
    "import requests"
   ]
  },
  {
   "cell_type": "code",
   "execution_count": 10,
   "metadata": {},
   "outputs": [],
   "source": [
    "load_dotenv()\n",
    "api_key = os.getenv(\"FRED_KEY\")"
   ]
  },
  {
   "cell_type": "code",
   "execution_count": 11,
   "metadata": {},
   "outputs": [],
   "source": [
    "resource_url = \"https://api.stlouisfed.org/fred/series/observations\"\n",
    "query_params = {\n",
    "    \"api_key\": api_key,\n",
    "    \"series_id\": \"MEHOINUSA672N\",\n",
    "    \"file_type\": \"json\"\n",
    "}\n",
    "\n",
    "res = requests.get(resource_url, params = query_params)\n",
    "res_json = res.json()\n",
    "df_income = pd.DataFrame(res_json[\"observations\"])"
   ]
  },
  {
   "cell_type": "code",
   "execution_count": 12,
   "metadata": {},
   "outputs": [
    {
     "data": {
      "text/html": [
       "<div>\n",
       "<style scoped>\n",
       "    .dataframe tbody tr th:only-of-type {\n",
       "        vertical-align: middle;\n",
       "    }\n",
       "\n",
       "    .dataframe tbody tr th {\n",
       "        vertical-align: top;\n",
       "    }\n",
       "\n",
       "    .dataframe thead th {\n",
       "        text-align: right;\n",
       "    }\n",
       "</style>\n",
       "<table border=\"1\" class=\"dataframe\">\n",
       "  <thead>\n",
       "    <tr style=\"text-align: right;\">\n",
       "      <th></th>\n",
       "      <th>realtime_start</th>\n",
       "      <th>realtime_end</th>\n",
       "      <th>date</th>\n",
       "      <th>value</th>\n",
       "    </tr>\n",
       "  </thead>\n",
       "  <tbody>\n",
       "    <tr>\n",
       "      <th>0</th>\n",
       "      <td>2025-01-28</td>\n",
       "      <td>2025-01-28</td>\n",
       "      <td>1984-01-01</td>\n",
       "      <td>58930</td>\n",
       "    </tr>\n",
       "    <tr>\n",
       "      <th>1</th>\n",
       "      <td>2025-01-28</td>\n",
       "      <td>2025-01-28</td>\n",
       "      <td>1985-01-01</td>\n",
       "      <td>60050</td>\n",
       "    </tr>\n",
       "    <tr>\n",
       "      <th>2</th>\n",
       "      <td>2025-01-28</td>\n",
       "      <td>2025-01-28</td>\n",
       "      <td>1986-01-01</td>\n",
       "      <td>62280</td>\n",
       "    </tr>\n",
       "    <tr>\n",
       "      <th>3</th>\n",
       "      <td>2025-01-28</td>\n",
       "      <td>2025-01-28</td>\n",
       "      <td>1987-01-01</td>\n",
       "      <td>63060</td>\n",
       "    </tr>\n",
       "    <tr>\n",
       "      <th>4</th>\n",
       "      <td>2025-01-28</td>\n",
       "      <td>2025-01-28</td>\n",
       "      <td>1988-01-01</td>\n",
       "      <td>63530</td>\n",
       "    </tr>\n",
       "  </tbody>\n",
       "</table>\n",
       "</div>"
      ],
      "text/plain": [
       "  realtime_start realtime_end        date  value\n",
       "0     2025-01-28   2025-01-28  1984-01-01  58930\n",
       "1     2025-01-28   2025-01-28  1985-01-01  60050\n",
       "2     2025-01-28   2025-01-28  1986-01-01  62280\n",
       "3     2025-01-28   2025-01-28  1987-01-01  63060\n",
       "4     2025-01-28   2025-01-28  1988-01-01  63530"
      ]
     },
     "execution_count": 12,
     "metadata": {},
     "output_type": "execute_result"
    }
   ],
   "source": [
    "df_income.head()"
   ]
  },
  {
   "cell_type": "markdown",
   "metadata": {},
   "source": [
    "### Real-time carpark availability\n",
    "\n",
    "Next, we query data from the LTA DataMall. Again, we need to obtain an API token and store it safely."
   ]
  },
  {
   "cell_type": "code",
   "execution_count": 13,
   "metadata": {},
   "outputs": [],
   "source": [
    "load_dotenv()\n",
    "api_key = os.getenv(\"LTA_KEY\")"
   ]
  },
  {
   "cell_type": "code",
   "execution_count": 14,
   "metadata": {},
   "outputs": [
    {
     "data": {
      "text/html": [
       "<div>\n",
       "<style scoped>\n",
       "    .dataframe tbody tr th:only-of-type {\n",
       "        vertical-align: middle;\n",
       "    }\n",
       "\n",
       "    .dataframe tbody tr th {\n",
       "        vertical-align: top;\n",
       "    }\n",
       "\n",
       "    .dataframe thead th {\n",
       "        text-align: right;\n",
       "    }\n",
       "</style>\n",
       "<table border=\"1\" class=\"dataframe\">\n",
       "  <thead>\n",
       "    <tr style=\"text-align: right;\">\n",
       "      <th></th>\n",
       "      <th>CarParkID</th>\n",
       "      <th>Area</th>\n",
       "      <th>Development</th>\n",
       "      <th>Location</th>\n",
       "      <th>AvailableLots</th>\n",
       "      <th>LotType</th>\n",
       "      <th>Agency</th>\n",
       "    </tr>\n",
       "  </thead>\n",
       "  <tbody>\n",
       "    <tr>\n",
       "      <th>0</th>\n",
       "      <td>1</td>\n",
       "      <td>Marina</td>\n",
       "      <td>Suntec City</td>\n",
       "      <td>1.29375 103.85718</td>\n",
       "      <td>557</td>\n",
       "      <td>C</td>\n",
       "      <td>LTA</td>\n",
       "    </tr>\n",
       "    <tr>\n",
       "      <th>1</th>\n",
       "      <td>2</td>\n",
       "      <td>Marina</td>\n",
       "      <td>Marina Square</td>\n",
       "      <td>1.29115 103.85728</td>\n",
       "      <td>1239</td>\n",
       "      <td>C</td>\n",
       "      <td>LTA</td>\n",
       "    </tr>\n",
       "    <tr>\n",
       "      <th>2</th>\n",
       "      <td>3</td>\n",
       "      <td>Marina</td>\n",
       "      <td>Raffles City</td>\n",
       "      <td>1.29382 103.85319</td>\n",
       "      <td>515</td>\n",
       "      <td>C</td>\n",
       "      <td>LTA</td>\n",
       "    </tr>\n",
       "    <tr>\n",
       "      <th>3</th>\n",
       "      <td>4</td>\n",
       "      <td>Marina</td>\n",
       "      <td>The Esplanade</td>\n",
       "      <td>1.29011 103.85561</td>\n",
       "      <td>577</td>\n",
       "      <td>C</td>\n",
       "      <td>LTA</td>\n",
       "    </tr>\n",
       "    <tr>\n",
       "      <th>4</th>\n",
       "      <td>5</td>\n",
       "      <td>Marina</td>\n",
       "      <td>Millenia Singapore</td>\n",
       "      <td>1.29251 103.86009</td>\n",
       "      <td>562</td>\n",
       "      <td>C</td>\n",
       "      <td>LTA</td>\n",
       "    </tr>\n",
       "  </tbody>\n",
       "</table>\n",
       "</div>"
      ],
      "text/plain": [
       "  CarParkID    Area         Development           Location  AvailableLots  \\\n",
       "0         1  Marina         Suntec City  1.29375 103.85718            557   \n",
       "1         2  Marina       Marina Square  1.29115 103.85728           1239   \n",
       "2         3  Marina        Raffles City  1.29382 103.85319            515   \n",
       "3         4  Marina       The Esplanade  1.29011 103.85561            577   \n",
       "4         5  Marina  Millenia Singapore  1.29251 103.86009            562   \n",
       "\n",
       "  LotType Agency  \n",
       "0       C    LTA  \n",
       "1       C    LTA  \n",
       "2       C    LTA  \n",
       "3       C    LTA  \n",
       "4       C    LTA  "
      ]
     },
     "execution_count": 14,
     "metadata": {},
     "output_type": "execute_result"
    }
   ],
   "source": [
    "import os\n",
    "import requests\n",
    "import pandas as pd\n",
    "\n",
    "resource_url = \"http://datamall2.mytransport.sg/ltaodataservice/CarParkAvailabilityv2\"\n",
    "headers = {\n",
    "    \"AccountKey\": api_key,  # API Key for authentication\n",
    "    \"Accept\": \"application/json\"\n",
    "}\n",
    "\n",
    "response = requests.get(resource_url, headers = headers)\n",
    "\n",
    "# Parse JSON response\n",
    "res_json = response.json()\n",
    "df_carpark = pd.DataFrame(res_json[\"value\"])\n",
    "df_carpark.head()"
   ]
  }
 ],
 "metadata": {
  "kernelspec": {
   "display_name": "Python 3",
   "language": "python",
   "name": "python3"
  },
  "language_info": {
   "codemirror_mode": {
    "name": "ipython",
    "version": 3
   },
   "file_extension": ".py",
   "mimetype": "text/x-python",
   "name": "python",
   "nbconvert_exporter": "python",
   "pygments_lexer": "ipython3",
   "version": "3.12.4"
  }
 },
 "nbformat": 4,
 "nbformat_minor": 2
}
